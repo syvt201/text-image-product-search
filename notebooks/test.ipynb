{
 "cells": [
  {
   "cell_type": "code",
   "execution_count": null,
   "id": "5d7896d8",
   "metadata": {},
   "outputs": [
    {
     "name": "stdout",
     "output_type": "stream",
     "text": [
      "[{'_id': ObjectId('68c37d669c0a912b8600782e'), 'name': 'red shoe', 'path': 'data/red_shoe.jpg'}, {'_id': ObjectId('68c37e219c0a912b86007831'), 'name': 'red shoe', 'path': 'data/red_shoe.jpg'}]\n"
     ]
    }
   ],
   "source": [
    "import os\n",
    "from pymongo import MongoClient\n",
    "from dotenv import load_dotenv\n",
    "\n",
    "load_dotenv() \n",
    "\n",
    "mongo_uri = os.getenv(\"MONGO_URI\")\n",
    "client = MongoClient(mongo_uri)\n",
    "db = client[\"product_db\"]\n",
    "collection = db[\"products\"]\n",
    "\n",
    "# Test insert\n",
    "collection.insert_one({\"name\": \"red shoe\", \"path\": \"data/red_shoe.jpg\"})\n",
    "print(list(collection.find()))\n"
   ]
  }
 ],
 "metadata": {
  "kernelspec": {
   "display_name": "text2seg",
   "language": "python",
   "name": "python3"
  },
  "language_info": {
   "codemirror_mode": {
    "name": "ipython",
    "version": 3
   },
   "file_extension": ".py",
   "mimetype": "text/x-python",
   "name": "python",
   "nbconvert_exporter": "python",
   "pygments_lexer": "ipython3",
   "version": "3.10.18"
  }
 },
 "nbformat": 4,
 "nbformat_minor": 5
}
